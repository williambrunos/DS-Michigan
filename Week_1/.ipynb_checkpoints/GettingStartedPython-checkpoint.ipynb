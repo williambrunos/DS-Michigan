{
 "cells": [
  {
   "cell_type": "markdown",
   "id": "f5d78689",
   "metadata": {},
   "source": [
    "# Getting started with Python\n",
    "\n",
    "## Asking for help\n",
    "\n",
    "We have various ways to get help on the documentation of python using codes.\n",
    "\n",
    "\n",
    "### help\n",
    "\n",
    "We can type help(object) to see the documentation of what is and what the object can do, like if the object was a function.\n",
    "\n",
    "````\n",
    "help(len)\n",
    "````\n",
    "\n",
    "The help function works too if we type:\n",
    "\n",
    "````\n",
    "object? # look for the documentation of the object\n",
    "````\n",
    "\n",
    "````\n",
    "object?? # look for the code of the object(doesn't work every time)\n",
    "````\n",
    "\n",
    "\n",
    "### dir and tab\n",
    "\n",
    "When using dir or tab, we can see all the objects that we can work wich ones the names matches wich the specified string we are looking for.\n",
    "\n",
    "\n",
    "## Errors and Debugging\n",
    "\n",
    "When a exception is raised, we can have control on how these informations will be showed on the screen, with the ````%xmode```` code.\n",
    "\n",
    "````%xmode```` can be ````Plain````, ````Context````, ````Verbose````.\n",
    "\n",
    "We can use the ````%debug```` to debug our code, writing ``up`` to go to the next frame, ``down`` to go to the previous frame and ``quit`` to quit the debbuger.\n",
    "\n",
    "## Functions\n",
    "\n",
    "We can declare functions with ``def`` keyword, declare optional parameters at the final of the function declaration, and if the funcion is called passing a value for this parameter, the default value will be overwritten by the new one.\n",
    "   "
   ]
  },
  {
   "cell_type": "code",
   "execution_count": 8,
   "id": "d60980f2",
   "metadata": {},
   "outputs": [
    {
     "name": "stdout",
     "output_type": "stream",
     "text": [
      "55.5\n"
     ]
    }
   ],
   "source": [
    "def sumWithArgs(*values, margin = 0):\n",
    "    return sum(values) + margin\n",
    "\n",
    "print(sumWithArgs(1, 2, 3, 4, 5, 6, 7, 8, 9, 10, margin=0.5))"
   ]
  },
  {
   "cell_type": "code",
   "execution_count": 16,
   "id": "a69d434b",
   "metadata": {},
   "outputs": [
    {
     "name": "stdout",
     "output_type": "stream",
     "text": [
      "William\n",
      "18\n",
      "williambruno@gmail.com\n",
      "Joao\n",
      "19\n",
      "joao@gmail.com\n"
     ]
    }
   ],
   "source": [
    "array_of_dict = [\n",
    "    {\"name\": \"William\", \"age\": 18, \"email\": \"williambruno@gmail.com\"}, \n",
    "    {\"name\": \"Joao\", \"age\":19, \"email\": \"joao@gmail.com\"}\n",
    "]\n",
    "\n",
    "for person in array_of_dict:\n",
    "    print(person['name'])\n",
    "    print(person['age'])\n",
    "    print(person['email'])"
   ]
  },
  {
   "cell_type": "markdown",
   "id": "792d3756",
   "metadata": {},
   "source": [
    "# Handling with CSV files"
   ]
  },
  {
   "cell_type": "code",
   "execution_count": 79,
   "id": "a76c9ef5",
   "metadata": {},
   "outputs": [
    {
     "name": "stdout",
     "output_type": "stream",
     "text": [
      "Average of horsepower: 102.89 \n"
     ]
    }
   ],
   "source": [
    "import csv\n",
    "with open('./mpg.csv', 'r+', encoding='utf-8') as csvfile:\n",
    "    reader = list(csv.DictReader(csvfile))\n",
    "    horsepower = 0\n",
    "    \n",
    "    for car in reader:\n",
    "        if car['horsepower'] == '?':\n",
    "            car['horsepower'] = 0\n",
    "        horsepower += int(car['horsepower'])\n",
    "            \n",
    "    print('Average of horsepower: %.2f ' % (horsepower / len(reader)))"
   ]
  }
 ],
 "metadata": {
  "kernelspec": {
   "display_name": "Python 3",
   "language": "python",
   "name": "python3"
  },
  "language_info": {
   "codemirror_mode": {
    "name": "ipython",
    "version": 3
   },
   "file_extension": ".py",
   "mimetype": "text/x-python",
   "name": "python",
   "nbconvert_exporter": "python",
   "pygments_lexer": "ipython3",
   "version": "3.8.8"
  }
 },
 "nbformat": 4,
 "nbformat_minor": 5
}
