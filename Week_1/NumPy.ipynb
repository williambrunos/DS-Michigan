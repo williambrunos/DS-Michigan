{
  "nbformat": 4,
  "nbformat_minor": 0,
  "metadata": {
    "colab": {
      "name": "Michigan-Week01.ipynb",
      "provenance": [],
      "collapsed_sections": []
    },
    "kernelspec": {
      "name": "python3",
      "display_name": "Python 3"
    },
    "language_info": {
      "name": "python"
    }
  },
  "cells": [
    {
      "cell_type": "markdown",
      "metadata": {
        "id": "gjCcczfeUZyZ"
      },
      "source": [
        "# Getting started with Python\n",
        "\n",
        "## Asking for help\n",
        "\n",
        "We have various ways to get help on the documentation of python using codes.\n",
        "\n",
        "\n",
        "### help\n",
        "\n",
        "We can type help(object) to see the documentation of what is and what the object can do, like if the object was a function.\n",
        "\n",
        "````\n",
        "help(len)\n",
        "````\n",
        "\n",
        "The help function works too if we type:\n",
        "\n",
        "````\n",
        "object? # look for the documentation of the object\n",
        "````\n",
        "\n",
        "````\n",
        "object?? # look for the code of the object(doesn't work every time)\n",
        "````\n",
        "\n",
        "\n",
        "### dir and tab\n",
        "\n",
        "When using dir or tab, we can see all the objects that we can work wich ones the names matches wich the specified string we are looking for.\n",
        "\n",
        "\n",
        "## Errors and Debugging\n",
        "\n",
        "When a exception is raised, we can have control on how these informations will be showed on the screen, with the ````%xmode```` code.\n",
        "\n",
        "````%xmode```` can be ````Plain````, ````Context````, ````Verbose````.\n",
        "\n",
        "We can use the ````%debug```` to debug our code, writing ``up`` to go to the next frame, ``down`` to go to the previous frame and ``quit`` to quit the debbuger.\n",
        "\n",
        "## Functions\n",
        "\n",
        "We can declare functions with ``def`` keyword, declare optional parameters at the final of the function declaration, and if the funcion is called passing a value for this parameter, the default value will be overwritten by the new one."
      ]
    },
    {
      "cell_type": "code",
      "metadata": {
        "id": "ExtTU5rNUeVR"
      },
      "source": [
        "def sumWithArgs(*values, margin = 0):\n",
        "    return sum(values) + margin\n",
        "\n",
        "print(sumWithArgs(1, 2, 3, 4, 5, 6, 7, 8, 9, 10, margin=0.5))"
      ],
      "execution_count": null,
      "outputs": []
    },
    {
      "cell_type": "code",
      "metadata": {
        "id": "LOJPcIbfUi0H"
      },
      "source": [
        "array_of_dict = [\n",
        "    {\"name\": \"William\", \"age\": 18, \"email\": \"williambruno@gmail.com\"}, \n",
        "    {\"name\": \"Joao\", \"age\":19, \"email\": \"joao@gmail.com\"}\n",
        "]\n",
        "\n",
        "for person in array_of_dict:\n",
        "    print(person['name'])\n",
        "    print(person['age'])\n",
        "    print(person['email'])"
      ],
      "execution_count": null,
      "outputs": []
    },
    {
      "cell_type": "markdown",
      "metadata": {
        "id": "BjXk0_mQUl0-"
      },
      "source": [
        "# Handling with CSV files"
      ]
    },
    {
      "cell_type": "code",
      "metadata": {
        "id": "770iC0G7Umqf"
      },
      "source": [
        "import csv\n",
        "with open('./mpg.csv', 'r+', encoding='utf-8') as csvfile:\n",
        "    reader = list(csv.DictReader(csvfile))\n",
        "    horsepower = 0\n",
        "    \n",
        "    for car in reader:\n",
        "        if car['horsepower'] == '?':\n",
        "            car['horsepower'] = 0\n",
        "        horsepower += int(car['horsepower'])\n",
        "            \n",
        "    print('Average of horsepower: %.2f ' % (horsepower / len(reader)))"
      ],
      "execution_count": null,
      "outputs": []
    },
    {
      "cell_type": "markdown",
      "metadata": {
        "id": "-JMOvAHxUqPv"
      },
      "source": [
        "# OOP with Python\n",
        "\n",
        "## classes\n",
        "\n",
        "Classes are molds to objects construction. We don't have data encapsulation, so if we want to assign some variable or method that shouldn't be accessible for the user, we declare it with a ``_`` at the beiigining."
      ]
    },
    {
      "cell_type": "code",
      "metadata": {
        "id": "i-3sNkduUrEH"
      },
      "source": [
        "class Person:\n",
        "    def __init__(self, name, age, email, location):\n",
        "        self._name = name\n",
        "        self._age = age\n",
        "        self._email = email\n",
        "        self._location = location\n",
        "    \n",
        "    def set_name(self, name):\n",
        "        self._name = name\n",
        "        pass\n",
        "    \n",
        "    def set_age(self, age):\n",
        "        self._age = age\n",
        "        pass\n",
        "    \n",
        "    def set_email(self, email):\n",
        "        self._email = email\n",
        "        pass\n",
        "    \n",
        "    def set_location(self, location):\n",
        "        self._location = location\n",
        "        pass\n",
        "    \n",
        "    def get_name(self):\n",
        "        return self._name\n",
        "    \n",
        "    def get_age(self):\n",
        "        return self._age\n",
        "    \n",
        "    def get_email(self):\n",
        "        return self._email\n",
        "    \n",
        "    def get_location(self):\n",
        "        return self._location"
      ],
      "execution_count": null,
      "outputs": []
    },
    {
      "cell_type": "markdown",
      "metadata": {
        "id": "6qWpW9SHUuG2"
      },
      "source": [
        "# Map function using Python\n",
        "\n",
        "Map function iterates over arguments executting a function passed as argument.\n",
        "\n",
        "``map(function, iterable1_of_the_function, iterable1_of_the_function, ...)``\n",
        "\n",
        "It's important to say, the iterables will be passed as arguments for the function inside the map declaration. So, if you pass to many iterables than the function can hold, it will generate an error."
      ]
    },
    {
      "cell_type": "code",
      "metadata": {
        "id": "90NcCqMlUu2n"
      },
      "source": [
        "store1 = [1, 2, 3, 4, 5, 6, 7, 8, 9, 10]\n",
        "store2 = [11, 12, 13, 14, 15, 16, 7, 8, 9, 10]\n",
        "map_store = map(min, store1, store2)\n",
        "\n",
        "for value in map_store:\n",
        "    print(value)"
      ],
      "execution_count": null,
      "outputs": []
    },
    {
      "cell_type": "markdown",
      "metadata": {
        "id": "VPr4AecPUxzP"
      },
      "source": [
        "# Lists Comprehensions\n",
        "\n",
        "Easisest, faster and simple way to declare a list in Python.\n",
        "\n",
        "``[variable_of_the_list for iterable in range()/data_structure]``"
      ]
    },
    {
      "cell_type": "code",
      "metadata": {
        "colab": {
          "base_uri": "https://localhost:8080/"
        },
        "id": "Kx0GrmxZWFDj",
        "outputId": "0af6b417-88a7-47c9-aa5a-0c65ba0ce0f6"
      },
      "source": [
        "def count_negatives(nums):\n",
        "  return len([num for num in nums if num < 0])\n",
        "\n",
        "squares = [n**2 for n in range(10)]\n",
        "print(squares)\n",
        "\n",
        "planets = ['Mercury', 'Venus', 'Earth', 'Mars', 'Jupiter', 'Saturn', 'Uranus', 'Neptune']\n",
        "short_planets = [planet for planet in planets if len(planet) < 6]\n",
        "\n",
        "print(short_planets)\n",
        "\n",
        "loud_short_planets = [planet.upper() for planet in planets if len(planet) < 6]\n",
        "\n",
        "print(loud_short_planets)\n",
        "print(count_negatives([-1, -2, -3, 4, 5, 6]))"
      ],
      "execution_count": null,
      "outputs": [
        {
          "output_type": "stream",
          "text": [
            "[0, 1, 4, 9, 16, 25, 36, 49, 64, 81]\n",
            "['Venus', 'Earth', 'Mars']\n",
            "['VENUS', 'EARTH', 'MARS']\n",
            "3\n"
          ],
          "name": "stdout"
        }
      ]
    },
    {
      "cell_type": "markdown",
      "metadata": {
        "id": "9D_AVhOlWIEy"
      },
      "source": [
        "# Lambda functions in Python\n",
        "\n",
        "Lambda allow us to create anonymous functions, wich has no name, only implementation."
      ]
    },
    {
      "cell_type": "code",
      "metadata": {
        "id": "4vLrcy2VWN8q"
      },
      "source": [
        "minor_prices = list(map(lambda value_1, value_2 : value_1 + value_2, store1, store2))\n",
        "print(minor_prices)"
      ],
      "execution_count": null,
      "outputs": []
    },
    {
      "cell_type": "markdown",
      "metadata": {
        "id": "8ipGuhmuWZJy"
      },
      "source": [
        "# NumPy Introduction\n",
        "\n",
        "Numpy is the fundamental package (library) for creating data structures, manipulating and loading other data. \n",
        "\n",
        "In this lection, we will see how to create arrays using numpy, manipulate data, select elements and load datasets."
      ]
    },
    {
      "cell_type": "code",
      "metadata": {
        "colab": {
          "base_uri": "https://localhost:8080/"
        },
        "id": "XY_FxXPBW7DT",
        "outputId": "1b6b127d-1655-45f6-e803-1c29b6d2f05f"
      },
      "source": [
        "import numpy as np\n",
        "import math\n",
        "# Arrays in Python are lists and we can pass them as arguments to the array method of the np library\n",
        "\n",
        "a = np.array([1, 2, 3])\n",
        "print(a)\n",
        "# We can see the dimnension of an array with the 'ndim' attribute \n",
        "print(a.ndim)"
      ],
      "execution_count": null,
      "outputs": [
        {
          "output_type": "stream",
          "text": [
            "[1 2 3]\n",
            "1\n"
          ],
          "name": "stdout"
        }
      ]
    },
    {
      "cell_type": "code",
      "metadata": {
        "colab": {
          "base_uri": "https://localhost:8080/"
        },
        "id": "75pfLiPIXhMx",
        "outputId": "89126c37-d7dd-4db9-ab67-4dddbb59a27b"
      },
      "source": [
        "# A two dimensional array which is a list of lists is also called matrix\n",
        "b = np.array([[1, 2, 3], [4, 5, 6]])\n",
        "print(b)\n",
        "print(b.ndim)"
      ],
      "execution_count": null,
      "outputs": [
        {
          "output_type": "stream",
          "text": [
            "[[1 2 3]\n",
            " [4 5 6]]\n",
            "2\n"
          ],
          "name": "stdout"
        }
      ]
    },
    {
      "cell_type": "code",
      "metadata": {
        "colab": {
          "base_uri": "https://localhost:8080/"
        },
        "id": "29X89J3dYG23",
        "outputId": "a7dcc0ec-a514-4f56-efcf-4ce36b253555"
      },
      "source": [
        "# We can also check the shape of our array and the type of the data\n",
        "print(a.shape)\n",
        "print(b.shape)\n",
        "\n",
        "print(a.dtype)\n",
        "print(b.dtype)"
      ],
      "execution_count": null,
      "outputs": [
        {
          "output_type": "stream",
          "text": [
            "(3,)\n",
            "(2, 3)\n",
            "int64\n",
            "int64\n"
          ],
          "name": "stdout"
        }
      ]
    },
    {
      "cell_type": "code",
      "metadata": {
        "colab": {
          "base_uri": "https://localhost:8080/"
        },
        "id": "ciNz34n-YwFf",
        "outputId": "57ac87b8-9e19-4307-8a6d-790d038b1c6d"
      },
      "source": [
        "# We can create arrays with placeholders, such as zeros, ones and random numbers\n",
        "d = np.zeros((3, 3))\n",
        "print(d)\n",
        "\n",
        "e = np.ones((3, 3))\n",
        "print(e)\n",
        "\n",
        "f = np.random.rand(3, 3)\n",
        "print(f)"
      ],
      "execution_count": null,
      "outputs": [
        {
          "output_type": "stream",
          "text": [
            "[[0. 0. 0.]\n",
            " [0. 0. 0.]\n",
            " [0. 0. 0.]]\n",
            "[[1. 1. 1.]\n",
            " [1. 1. 1.]\n",
            " [1. 1. 1.]]\n",
            "[[0.34923412 0.19696612 0.34115451]\n",
            " [0.02079939 0.44777047 0.82964182]\n",
            " [0.18613086 0.13581025 0.75680524]]\n"
          ],
          "name": "stdout"
        }
      ]
    },
    {
      "cell_type": "code",
      "metadata": {
        "colab": {
          "base_uri": "https://localhost:8080/"
        },
        "id": "0BjwkJxDZ2x8",
        "outputId": "74ddcfcc-4154-466b-e309-cb25d079db19"
      },
      "source": [
        "# We can also create an array with values in a range of (starting_value, final_value, difference_between_start_and_final)\n",
        "print(np.arange(10, 50, 2))\n",
        "\n",
        "# Also, numpy allow us to create an array with 'n' values lineary spaced between the initial_value \n",
        "# and final_value as np.linspace(initial_value, final_value, n)\n",
        "np.linspace(0, 2, 15)"
      ],
      "execution_count": null,
      "outputs": [
        {
          "output_type": "stream",
          "text": [
            "[10 12 14 16 18 20 22 24 26 28 30 32 34 36 38 40 42 44 46 48]\n"
          ],
          "name": "stdout"
        },
        {
          "output_type": "execute_result",
          "data": {
            "text/plain": [
              "array([0.        , 0.14285714, 0.28571429, 0.42857143, 0.57142857,\n",
              "       0.71428571, 0.85714286, 1.        , 1.14285714, 1.28571429,\n",
              "       1.42857143, 1.57142857, 1.71428571, 1.85714286, 2.        ])"
            ]
          },
          "metadata": {
            "tags": []
          },
          "execution_count": 29
        }
      ]
    },
    {
      "cell_type": "markdown",
      "metadata": {
        "id": "91-5QU6AcH_y"
      },
      "source": [
        "# Operations with Numpy"
      ]
    },
    {
      "cell_type": "markdown",
      "metadata": {
        "id": "cLjMh1IjcKa6"
      },
      "source": [
        "## Arithmetic Operations\n",
        "\n",
        "Are all element wise, which means that they are done element by element."
      ]
    },
    {
      "cell_type": "code",
      "metadata": {
        "colab": {
          "base_uri": "https://localhost:8080/"
        },
        "id": "j6F-tPO6cQmC",
        "outputId": "21072f1d-39d5-458c-948a-462e5e59222f"
      },
      "source": [
        "a = np.array([[1, 2, 3], [4, 5, 6]])\n",
        "b = np.array([[7, 8, 9], [10, 11, 12]])\n",
        "\n",
        "print(a - b, end='\\n\\n')\n",
        "print(a*b, end='\\n\\n')\n",
        "print(a/b)"
      ],
      "execution_count": null,
      "outputs": [
        {
          "output_type": "stream",
          "text": [
            "[[-6 -6 -6]\n",
            " [-6 -6 -6]]\n",
            "\n",
            "[[ 7 16 27]\n",
            " [40 55 72]]\n",
            "\n",
            "[[0.14285714 0.25       0.33333333]\n",
            " [0.4        0.45454545 0.5       ]]\n"
          ],
          "name": "stdout"
        }
      ]
    },
    {
      "cell_type": "code",
      "metadata": {
        "colab": {
          "base_uri": "https://localhost:8080/"
        },
        "id": "d_dWGM1_c2zB",
        "outputId": "281c4834-dd96-4a1a-eecc-1f4c63751336"
      },
      "source": [
        "c = np.array([[1, 2, 3]])\n",
        "d = np.array([[4, 5, 6], [7, 8, 9]])\n",
        "\n",
        "print(c + d)"
      ],
      "execution_count": null,
      "outputs": [
        {
          "output_type": "stream",
          "text": [
            "[[ 5  7  9]\n",
            " [ 8 10 12]]\n"
          ],
          "name": "stdout"
        }
      ]
    },
    {
      "cell_type": "code",
      "metadata": {
        "colab": {
          "base_uri": "https://localhost:8080/"
        },
        "id": "SA42RGexdmuv",
        "outputId": "993f672b-880d-4fd3-f951-89d6eed59f92"
      },
      "source": [
        "# We have an importante array called the Boolean Array, which one is like a 'map' of each number of an array that returns a boolean for certain condition\n",
        "celsius = np.array([-1, -2, -15, 0, 20, 30, -50])\n",
        "celsius > 0"
      ],
      "execution_count": null,
      "outputs": [
        {
          "output_type": "execute_result",
          "data": {
            "text/plain": [
              "array([False, False, False, False,  True,  True, False])"
            ]
          },
          "metadata": {
            "tags": []
          },
          "execution_count": 39
        }
      ]
    },
    {
      "cell_type": "code",
      "metadata": {
        "colab": {
          "base_uri": "https://localhost:8080/"
        },
        "id": "hGmwKS36edqc",
        "outputId": "b349c0da-78eb-403d-b089-162369348a7c"
      },
      "source": [
        "# Another application of boolean arrays is when we check the modulus condition\n",
        "celsius % 2 == 0"
      ],
      "execution_count": null,
      "outputs": [
        {
          "output_type": "execute_result",
          "data": {
            "text/plain": [
              "array([False,  True, False,  True,  True,  True,  True])"
            ]
          },
          "metadata": {
            "tags": []
          },
          "execution_count": 40
        }
      ]
    },
    {
      "cell_type": "code",
      "metadata": {
        "colab": {
          "base_uri": "https://localhost:8080/"
        },
        "id": "aoBWATrUfGpT",
        "outputId": "97e0c8f2-dcd6-4eac-d947-f78c353cafe8"
      },
      "source": [
        "# We can also manipulate matrices not element wise, but such as in linear algebra\n",
        "a = np.array([[1, 2, 3], [4, 5, 6], [20, 30, 40]])\n",
        "b = np.array([[7, 8, 9], [10, 11, 12], [13, 14, 15]])\n",
        "\n",
        "print(a.shape == b.shape)\n",
        "print(a@b)"
      ],
      "execution_count": null,
      "outputs": [
        {
          "output_type": "stream",
          "text": [
            "True\n",
            "[[  66   72   78]\n",
            " [ 156  171  186]\n",
            " [ 960 1050 1140]]\n"
          ],
          "name": "stdout"
        }
      ]
    },
    {
      "cell_type": "code",
      "metadata": {
        "colab": {
          "base_uri": "https://localhost:8080/"
        },
        "id": "gp8RG2FOhrjr",
        "outputId": "3606f797-a870-4d8f-a840-7057bde01e3d"
      },
      "source": [
        "# Numpy allow us to make mathmatical checks on arrays\n",
        "print(a.sum())\n",
        "print(b.min())\n",
        "print(a.max())\n",
        "print(b.mean())"
      ],
      "execution_count": null,
      "outputs": [
        {
          "output_type": "stream",
          "text": [
            "111\n",
            "7\n",
            "40\n",
            "11.0\n"
          ],
          "name": "stdout"
        }
      ]
    }
  ]
}