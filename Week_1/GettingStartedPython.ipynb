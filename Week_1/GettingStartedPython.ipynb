{
 "cells": [
  {
   "cell_type": "markdown",
   "id": "f5d78689",
   "metadata": {},
   "source": [
    "# Getting started with Python\n",
    "\n",
    "## Asking for help\n",
    "\n",
    "We have various ways to get help on the documentation of python using codes.\n",
    "\n",
    "\n",
    "### help\n",
    "\n",
    "We can type help(object) to see the documentation of what is and what the object can do, like if the object was a function.\n",
    "\n",
    "````\n",
    "help(len)\n",
    "````\n",
    "\n",
    "The help function works too if we type:\n",
    "\n",
    "````\n",
    "object? # look for the documentation of the object\n",
    "````\n",
    "\n",
    "````\n",
    "object?? # look for the code of the object(doesn't work every time)\n",
    "````\n",
    "\n",
    "\n",
    "### dir and tab\n",
    "\n",
    "When using dir or tab, we can see all the objects that we can work wich ones the names matches wich the specified string we are looking for.\n",
    "\n",
    "\n",
    "## Errors and Debugging\n",
    "\n",
    "When a exception is raised, we can have control on how these informations will be showed on the screen, with the ````%xmode```` code.\n",
    "\n",
    "````%xmode```` can be ````Plain````, ````Context````, ````Verbose````.\n",
    "\n",
    "We can use the ````%debug```` to debug our code, writing ``up`` to go to the next frame, ``down`` to go to the previous frame and ``quit`` to quit the debbuger.\n",
    "\n",
    "## Functions\n",
    "\n",
    "We can declare functions with ``def`` keyword, declare optional parameters at the final of the function declaration, and if the funcion is called passing a value for this parameter, the default value will be overwritten by the new one.\n",
    "   "
   ]
  },
  {
   "cell_type": "code",
   "execution_count": 8,
   "id": "d60980f2",
   "metadata": {},
   "outputs": [
    {
     "name": "stdout",
     "output_type": "stream",
     "text": [
      "55.5\n"
     ]
    }
   ],
   "source": [
    "def sumWithArgs(*values, margin = 0):\n",
    "    return sum(values) + margin\n",
    "\n",
    "print(sumWithArgs(1, 2, 3, 4, 5, 6, 7, 8, 9, 10, margin=0.5))"
   ]
  },
  {
   "cell_type": "code",
   "execution_count": 16,
   "id": "a69d434b",
   "metadata": {},
   "outputs": [
    {
     "name": "stdout",
     "output_type": "stream",
     "text": [
      "William\n",
      "18\n",
      "williambruno@gmail.com\n",
      "Joao\n",
      "19\n",
      "joao@gmail.com\n"
     ]
    }
   ],
   "source": [
    "array_of_dict = [\n",
    "    {\"name\": \"William\", \"age\": 18, \"email\": \"williambruno@gmail.com\"}, \n",
    "    {\"name\": \"Joao\", \"age\":19, \"email\": \"joao@gmail.com\"}\n",
    "]\n",
    "\n",
    "for person in array_of_dict:\n",
    "    print(person['name'])\n",
    "    print(person['age'])\n",
    "    print(person['email'])"
   ]
  },
  {
   "cell_type": "markdown",
   "id": "792d3756",
   "metadata": {},
   "source": [
    "# Handling with CSV files"
   ]
  },
  {
   "cell_type": "code",
   "execution_count": 1,
   "id": "a76c9ef5",
   "metadata": {},
   "outputs": [
    {
     "name": "stdout",
     "output_type": "stream",
     "text": [
      "Average of horsepower: 102.89 \n"
     ]
    }
   ],
   "source": [
    "import csv\n",
    "with open('./mpg.csv', 'r+', encoding='utf-8') as csvfile:\n",
    "    reader = list(csv.DictReader(csvfile))\n",
    "    horsepower = 0\n",
    "    \n",
    "    for car in reader:\n",
    "        if car['horsepower'] == '?':\n",
    "            car['horsepower'] = 0\n",
    "        horsepower += int(car['horsepower'])\n",
    "            \n",
    "    print('Average of horsepower: %.2f ' % (horsepower / len(reader)))"
   ]
  },
  {
   "cell_type": "markdown",
   "id": "092849b2",
   "metadata": {},
   "source": [
    "# OOP with Python\n",
    "\n",
    "## classes\n",
    "\n",
    "Classes are molds to objects construction. We don't have data encapsulation, so if we want to assign some variable or method that shouldn't be accessible for the user, we declare it with a ``_`` at the beiigining."
   ]
  },
  {
   "cell_type": "code",
   "execution_count": 11,
   "id": "39f042f1",
   "metadata": {},
   "outputs": [],
   "source": [
    "class Person:\n",
    "    def __init__(self, name, age, email, location):\n",
    "        self._name = name\n",
    "        self._age = age\n",
    "        self._email = email\n",
    "        self._location = location\n",
    "    \n",
    "    def set_name(self, name):\n",
    "        self._name = name\n",
    "        pass\n",
    "    \n",
    "    def set_age(self, age):\n",
    "        self._age = age\n",
    "        pass\n",
    "    \n",
    "    def set_email(self, email):\n",
    "        self._email = email\n",
    "        pass\n",
    "    \n",
    "    def set_location(self, location):\n",
    "        self._location = location\n",
    "        pass\n",
    "    \n",
    "    def get_name(self):\n",
    "        return self._name\n",
    "    \n",
    "    def get_age(self):\n",
    "        return self._age\n",
    "    \n",
    "    def get_email(self):\n",
    "        return self._email\n",
    "    \n",
    "    def get_location(self):\n",
    "        return self._location"
   ]
  },
  {
   "cell_type": "markdown",
   "id": "8474f847",
   "metadata": {},
   "source": [
    "# Map function using Python\n",
    "\n",
    "Map function iterates over arguments executting a function passed as argument.\n",
    "\n",
    "``map(function, iterable1_of_the_function, iterable1_of_the_function, ...)``\n",
    "\n",
    "It's important to say, the iterables will be passed as arguments for the function inside the map declaration. So, if you pass to many iterables than the function can hold, it will generate an error."
   ]
  },
  {
   "cell_type": "code",
   "execution_count": 18,
   "id": "c2244cd5",
   "metadata": {},
   "outputs": [
    {
     "name": "stdout",
     "output_type": "stream",
     "text": [
      "1\n",
      "2\n",
      "3\n",
      "4\n",
      "5\n",
      "6\n",
      "7\n",
      "8\n",
      "9\n",
      "10\n"
     ]
    }
   ],
   "source": [
    "store1 = [1, 2, 3, 4, 5, 6, 7, 8, 9, 10]\n",
    "store2 = [11, 12, 13, 14, 15, 16, 7, 8, 9, 10]\n",
    "map_store = map(min, store1, store2)\n",
    "\n",
    "for value in map_store:\n",
    "    print(value)"
   ]
  },
  {
   "cell_type": "markdown",
   "id": "fb053440",
   "metadata": {},
   "source": [
    "# Lists Comprehensions\n",
    "\n",
    "Easisest, faster and simple way to declare a list in Python.\n",
    "\n",
    "``[variable_of_the_list for iterable in range()/data_structure]``"
   ]
  },
  {
   "cell_type": "code",
   "execution_count": 25,
   "id": "489c7869",
   "metadata": {},
   "outputs": [
    {
     "name": "stdout",
     "output_type": "stream",
     "text": [
      "[0, 1, 4, 9, 16, 25, 36, 49, 64, 81]\n"
     ]
    }
   ],
   "source": [
    "squares = [n**2 for n in range(10)]\n",
    "print(squares)"
   ]
  },
  {
   "cell_type": "code",
   "execution_count": 27,
   "id": "34ab537e",
   "metadata": {},
   "outputs": [
    {
     "name": "stdout",
     "output_type": "stream",
     "text": [
      "['Venus', 'Earth', 'Mars']\n"
     ]
    }
   ],
   "source": [
    "planets = ['Mercury', 'Venus', 'Earth', 'Mars', 'Jupiter', 'Saturn', 'Uranus', 'Neptune']\n",
    "short_planets = [planet for planet in planets if len(planet) < 6]\n",
    "\n",
    "print(short_planets)"
   ]
  },
  {
   "cell_type": "code",
   "execution_count": 29,
   "id": "7d71b99f",
   "metadata": {},
   "outputs": [
    {
     "name": "stdout",
     "output_type": "stream",
     "text": [
      "['VENUS', 'EARTH', 'MARS']\n"
     ]
    }
   ],
   "source": [
    "loud_short_planets = [planet.upper() for planet in planets if len(planet) < 6]\n",
    "\n",
    "print(loud_short_planets)"
   ]
  },
  {
   "cell_type": "code",
   "execution_count": 30,
   "id": "972f3e5b",
   "metadata": {},
   "outputs": [
    {
     "name": "stdout",
     "output_type": "stream",
     "text": [
      "3\n"
     ]
    }
   ],
   "source": [
    "def count_negatives(nums):\n",
    "    return len([num for num in nums if num < 0])\n",
    "\n",
    "print(count_negatives([-1, -2, -3, 4, 5, 6]))"
   ]
  },
  {
   "cell_type": "markdown",
   "id": "0f66c13c",
   "metadata": {},
   "source": [
    "# Lambda functions in Python\n",
    "\n",
    "Lambda allow us to create anonymous functions, wich has no name, only implementation."
   ]
  },
  {
   "cell_type": "code",
   "execution_count": 22,
   "id": "79e27b3c",
   "metadata": {},
   "outputs": [
    {
     "name": "stdout",
     "output_type": "stream",
     "text": [
      "[12, 14, 16, 18, 20, 22, 14, 16, 18, 20]\n"
     ]
    }
   ],
   "source": [
    "minor_prices = list(map(lambda value_1, value_2 : value_1 + value_2, store1, store2))\n",
    "print(minor_prices)"
   ]
  },
  {
   "cell_type": "markdown",
   "id": "92b38b47",
   "metadata": {},
   "source": [
    "# Regular Expressions\n",
    "\n",
    "Regular expressions, or RegEx, are patterns given to a processor wich checks if the string has that pattern."
   ]
  },
  {
   "cell_type": "code",
   "execution_count": 2,
   "id": "d1e17def",
   "metadata": {},
   "outputs": [],
   "source": [
    "import re"
   ]
  },
  {
   "cell_type": "code",
   "execution_count": 4,
   "id": "cbca2b80",
   "metadata": {},
   "outputs": [
    {
     "name": "stdout",
     "output_type": "stream",
     "text": [
      "Wonderful!\n"
     ]
    }
   ],
   "source": [
    "# The first function to our analysis is 'match()' which will check if the is a pattern at the beggining of a string\n",
    "# The other one is 'search()' which will seacrh for the pattern anywhere on the string\n",
    "phrase = 'This is a good day.'\n",
    "\n",
    "if re.search('good', phrase):\n",
    "    print('Wonderful!')\n",
    "else:\n",
    "    print('Oh :(')"
   ]
  },
  {
   "cell_type": "code",
   "execution_count": 10,
   "id": "af492125",
   "metadata": {},
   "outputs": [
    {
     "data": {
      "text/plain": [
       "['', ' works deligently. ', ' is smart. ', ' works very hard']"
      ]
     },
     "execution_count": 10,
     "metadata": {},
     "output_type": "execute_result"
    }
   ],
   "source": [
    "# We can 'split()' a text whenever it finds a certain pattern in a string\n",
    "text = \"William works deligently. William is smart. William works very hard\"\n",
    "\n",
    "re.split('William', text)"
   ]
  },
  {
   "cell_type": "code",
   "execution_count": 11,
   "id": "8f8721e4",
   "metadata": {},
   "outputs": [
    {
     "data": {
      "text/plain": [
       "['William', 'William', 'William']"
      ]
     },
     "execution_count": 11,
     "metadata": {},
     "output_type": "execute_result"
    }
   ],
   "source": [
    "# The re library allow us to 'findall()' patterns o a given string\n",
    "re.findall('William', text)"
   ]
  },
  {
   "cell_type": "code",
   "execution_count": 16,
   "id": "8a81c700",
   "metadata": {},
   "outputs": [
    {
     "data": {
      "text/plain": [
       "True"
      ]
     },
     "execution_count": 16,
     "metadata": {},
     "output_type": "execute_result"
    }
   ],
   "source": [
    "# Allow us to 'search()' for a pattern on a string and returns a boolean in case of finding it\n",
    "bool(re.search(\"William\", text))"
   ]
  },
  {
   "cell_type": "code",
   "execution_count": 22,
   "id": "5d29c999",
   "metadata": {},
   "outputs": [
    {
     "data": {
      "text/plain": [
       "<re.Match object; span=(0, 7), match='William'>"
      ]
     },
     "execution_count": 22,
     "metadata": {},
     "output_type": "execute_result"
    }
   ],
   "source": [
    "# The python regex documentations specifies a markdown standard to use for regex declarings. The caret character '^' means start\n",
    "# and the dollar '$' sign means end.\n",
    "re.search('^William', text)"
   ]
  },
  {
   "cell_type": "markdown",
   "id": "d51b9596",
   "metadata": {},
   "source": [
    "# Characters Patterns and Matching"
   ]
  },
  {
   "cell_type": "code",
   "execution_count": 23,
   "id": "d394e14d",
   "metadata": {},
   "outputs": [],
   "source": [
    "grades = 'AABCAABBCAA'"
   ]
  },
  {
   "cell_type": "code",
   "execution_count": 25,
   "id": "51667496",
   "metadata": {},
   "outputs": [
    {
     "name": "stdout",
     "output_type": "stream",
     "text": [
      "['A', 'A', 'B', 'A', 'A', 'B', 'B', 'A', 'A']\n",
      "9\n"
     ]
    }
   ],
   "source": [
    "# if we want to find how many 'A's OR 'B's wich we have on the string, we use '[pattern]'\n",
    "print(re.findall('[AB]', grades))\n",
    "print(len(re.findall('[AB]', grades)))"
   ]
  },
  {
   "cell_type": "code",
   "execution_count": 27,
   "id": "2b86dc3c",
   "metadata": {},
   "outputs": [
    {
     "data": {
      "text/plain": [
       "['AB', 'AB']"
      ]
     },
     "execution_count": 27,
     "metadata": {},
     "output_type": "execute_result"
    }
   ],
   "source": [
    "# If we want to find all the patterns wich starts with an 'A' and are followed by 'B' OR 'C'\n",
    "re.findall('[A][B-C]', grades)"
   ]
  },
  {
   "cell_type": "code",
   "execution_count": 28,
   "id": "85cd7dae",
   "metadata": {},
   "outputs": [
    {
     "data": {
      "text/plain": [
       "['B', 'C', 'B', 'B', 'C']"
      ]
     },
     "execution_count": 28,
     "metadata": {},
     "output_type": "execute_result"
    }
   ],
   "source": [
    "# If we want to negate the pattern result we use the caret '^' inside '[pattern]' -> ['^pattern']\n",
    "re.findall('[^A]', grades)"
   ]
  },
  {
   "cell_type": "markdown",
   "id": "7514fcf6",
   "metadata": {},
   "source": [
    "# Quantifiers"
   ]
  },
  {
   "cell_type": "code",
   "execution_count": 30,
   "id": "4d92fbe1",
   "metadata": {},
   "outputs": [],
   "source": [
    "# We can use quantifiers syntax e{m, n}, where 'e' is the regex, 'n' is the minimun patterns wich we want to find and 'm' the\n",
    "# maximun -> the default is {1, 1}"
   ]
  },
  {
   "cell_type": "code",
   "execution_count": 33,
   "id": "ef221574",
   "metadata": {},
   "outputs": [
    {
     "data": {
      "text/plain": [
       "['AABC', 'AABBC']"
      ]
     },
     "execution_count": 33,
     "metadata": {},
     "output_type": "execute_result"
    }
   ],
   "source": [
    "# Said that, we can find a decreasing interval on the student grades\n",
    "re.findall('A{1,10}B{1,10}C{1,10}', grades)"
   ]
  },
  {
   "cell_type": "code",
   "execution_count": 34,
   "id": "9511cdfa",
   "metadata": {},
   "outputs": [],
   "source": [
    "# Another quantifier wich we can use is the '*' character -> counts since 0 to any number\n",
    "# To find a group of patterns on a string we use (pattern)"
   ]
  },
  {
   "cell_type": "markdown",
   "id": "e025939f",
   "metadata": {},
   "source": [
    "# Sets (Conjuntos)\n",
    "\n",
    "Sets in python are as well as in math, collection of unique and unsorted data. In python, we can do:\n",
    "\n",
    "``\n",
    "set_of_data = {data}\n",
    "set_of_data = set(collection_of_data\n",
    "``\n",
    "\n",
    "Those data on the set can be repeated at the definition, but the python interpreter will remove them and leave just the unique items.\n",
    "\n",
    "You can do the same operations of the other data collections, **except for indexing and slicing**. Why? Sets are not suposed to take care of the order of the data, just concerning if the item is or not in the set. Also, sets of data raise Key errors when trying to set a mutable collection of data. This happens because the interpreter of python will not know what to do with this set if those collections changes somehow.\n",
    "\n",
    "### Adding Values\n",
    "\n",
    "When adding values on sets, you can do this using ``set_collection.add(value)`` function. This will add the value into your set if the collection doesn't have the value yet. Otherwise, will not add the value.\n",
    "\n",
    "Even though, you can add various elements at the same time using ``set_collection.update(various_values)``.\n",
    "\n",
    "### Removing Values\n",
    "\n",
    "When removing values from a set, you can use ``set_collection.remove(value)`` function. It will remove the element or raise ValueError if it was not found at the set.\n",
    "\n",
    "Othserwise, you can use ``set_collection.discard(value)`` function, which will remove a value from a set or will do not if the value is not at the set."
   ]
  },
  {
   "cell_type": "markdown",
   "id": "8ac2cc62",
   "metadata": {},
   "source": [
    "## Manipulating Sets\n",
    "\n",
    "### Union\n",
    "\n",
    "``set1.union(set2)``\n",
    "\n",
    "### Intersection\n",
    "\n",
    "``set1.intersection(set2)``\n",
    "\n",
    "### Difference\n",
    "\n",
    "``set1.difference(set2)``\n",
    "\n",
    "### Subset (set is a superset of sub_set)\n",
    "\n",
    "``sub_set <= set (True)``\n",
    "\n",
    "###  Subset próprio\n",
    "\n",
    "``sub_set < set`` or ``sub_set <= set and sub_set != set``"
   ]
  }
 ],
 "metadata": {
  "kernelspec": {
   "display_name": "Python 3",
   "language": "python",
   "name": "python3"
  },
  "language_info": {
   "codemirror_mode": {
    "name": "ipython",
    "version": 3
   },
   "file_extension": ".py",
   "mimetype": "text/x-python",
   "name": "python",
   "nbconvert_exporter": "python",
   "pygments_lexer": "ipython3",
   "version": "3.8.8"
  }
 },
 "nbformat": 4,
 "nbformat_minor": 5
}
