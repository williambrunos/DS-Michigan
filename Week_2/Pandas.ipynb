{
 "cells": [
  {
   "cell_type": "markdown",
   "id": "eb32d969",
   "metadata": {},
   "source": [
    "# Pandas: Getting Started\n",
    "\n",
    "## Pandas Series\n",
    "\n",
    "Pandas series objects are used to store and manipulate single dimensional arrays of numbers. These are the basic data structures in pandas, which are a mix of lists and dictionaries, so you have indices of each data and string keys to define columns.\n",
    "\n",
    "Series on Pandas come from NumPy arrays, but Series has the values and indices expressed, not just intern."
   ]
  },
  {
   "cell_type": "code",
   "execution_count": 32,
   "id": "254d9a29",
   "metadata": {},
   "outputs": [],
   "source": [
    "import pandas as pd\n",
    "import numpy as np"
   ]
  },
  {
   "cell_type": "code",
   "execution_count": 33,
   "id": "554c5a93",
   "metadata": {},
   "outputs": [
    {
     "data": {
      "text/plain": [
       "0    Wiliam\n",
       "1     Molly\n",
       "2      Alex\n",
       "dtype: object"
      ]
     },
     "execution_count": 33,
     "metadata": {},
     "output_type": "execute_result"
    }
   ],
   "source": [
    "# Pandas stores our list in a Series by creating a new numpy array and sotring our values on it\n",
    "# This numpy aproach give to us various advantages, like more efficientcy when manipulating arrays\n",
    "students = ['Wiliam', 'Molly', 'Alex']\n",
    "\n",
    "pd.Series(students)"
   ]
  },
  {
   "cell_type": "code",
   "execution_count": 34,
   "id": "0a084a4d",
   "metadata": {},
   "outputs": [
    {
     "data": {
      "text/plain": [
       "0    1\n",
       "1    2\n",
       "2    3\n",
       "dtype: int64"
      ]
     },
     "execution_count": 34,
     "metadata": {},
     "output_type": "execute_result"
    }
   ],
   "source": [
    "numbers = [1, 2, 3]\n",
    "\n",
    "pd.Series(numbers)"
   ]
  },
  {
   "cell_type": "markdown",
   "id": "5b795b15",
   "metadata": {},
   "source": [
    "## None Values\n",
    "\n",
    "When creating a Series, Python verfies which element we are treating on the series. If it finds a None value, it will store it anyway on the numpy array and the type of the array will be of the underlyig array(without the None)."
   ]
  },
  {
   "cell_type": "code",
   "execution_count": 35,
   "id": "b45301f0",
   "metadata": {},
   "outputs": [
    {
     "data": {
      "text/plain": [
       "0    William\n",
       "1       None\n",
       "2      Bruno\n",
       "dtype: object"
      ]
     },
     "execution_count": 35,
     "metadata": {},
     "output_type": "execute_result"
    }
   ],
   "source": [
    "testing = ['William', None, 'Bruno']\n",
    "\n",
    "pd.Series(testing)\n",
    "# try it: pd.Series(testing).dropna() -> 'drop all None values'"
   ]
  },
  {
   "cell_type": "code",
   "execution_count": 36,
   "id": "2c2d1d3a",
   "metadata": {},
   "outputs": [
    {
     "data": {
      "text/plain": [
       "0    1.0\n",
       "1    2.0\n",
       "2    NaN\n",
       "dtype: float64"
      ]
     },
     "execution_count": 36,
     "metadata": {},
     "output_type": "execute_result"
    }
   ],
   "source": [
    "# When recieving an array of integers or float numbers to creat a Series, Pandas verifies if the array has None objects.\n",
    "# If it has, pandas converts it to NaN (Not A Number) object and the rest of the numbers, dispite its integers or not, to\n",
    "# floating points\n",
    "numbers = [1, 2, None]\n",
    "\n",
    "pd.Series(numbers)"
   ]
  },
  {
   "cell_type": "markdown",
   "id": "318dc73b",
   "metadata": {},
   "source": [
    "## Why None Values?\n",
    "\n",
    "For data scientists, None or NaN values are used to refference missing data. It's important to know how to clean these missing values from the data set if them do not improve any knowledge.\n",
    "\n",
    "## How to know if there is NaN values?\n",
    "\n",
    "Simple programming comparisons does not act like we wanted to NaN values. Because of that, it's important to use the ``isnan()`` functin which is present on the numpy library. It checks if a object is a NaN value."
   ]
  },
  {
   "cell_type": "code",
   "execution_count": 37,
   "id": "9564457b",
   "metadata": {},
   "outputs": [
    {
     "data": {
      "text/plain": [
       "True"
      ]
     },
     "execution_count": 37,
     "metadata": {},
     "output_type": "execute_result"
    }
   ],
   "source": [
    "np.isnan(np.nan)"
   ]
  },
  {
   "cell_type": "markdown",
   "id": "b6df1e11",
   "metadata": {},
   "source": [
    "## Creating Series from Dictionaries\n",
    "\n",
    "We've saw that when creating a list and passing it as argument to create a pandas series it will store for each element a key value which is a integer growing from 0 to len(list) - 1.\n",
    "\n",
    "But we can create a series from a dictionary as well. On that case, the key values will not be integers anymore, but using the key values from the dict instead."
   ]
  },
  {
   "cell_type": "code",
   "execution_count": 38,
   "id": "fcaa0ff3",
   "metadata": {},
   "outputs": [
    {
     "data": {
      "text/plain": [
       "Molly        Physics\n",
       "William         Math\n",
       "Andre      Chemistry\n",
       "dtype: object"
      ]
     },
     "execution_count": 38,
     "metadata": {},
     "output_type": "execute_result"
    }
   ],
   "source": [
    "students_grades = {'Molly': 'Physics',\n",
    "                   'William': 'Math',\n",
    "                   'Andre': 'Chemistry',\n",
    "                  }\n",
    "s = pd.Series(students_grades)\n",
    "s"
   ]
  },
  {
   "cell_type": "code",
   "execution_count": 39,
   "id": "5f7893a0",
   "metadata": {},
   "outputs": [
    {
     "data": {
      "text/plain": [
       "0      (William, Sales)\n",
       "1    (Marcos, Vinicius)\n",
       "2         (João, Lucas)\n",
       "dtype: object"
      ]
     },
     "execution_count": 39,
     "metadata": {},
     "output_type": "execute_result"
    }
   ],
   "source": [
    "# hThe dtype: object is not just for strings, is for any object type on `Python\n",
    "students_last_names = [('William', 'Sales'), ('Marcos', 'Vinicius'), ('João', 'Lucas')]\n",
    "\n",
    "pd.Series(students_last_names)"
   ]
  },
  {
   "cell_type": "markdown",
   "id": "c6457575",
   "metadata": {},
   "source": [
    "## Creating an arbitrary Series\n",
    "\n",
    "We can also pass as argument on the Series function which indexes we want to pick up from the list or dict. But, what happens if we say for the index argument a key which is not on our dict? Pandas will create a new field on the Series with that key and attribute to it a NaN value. If we exclude some key from the dict, pandas will simply not add it up on the Series."
   ]
  },
  {
   "cell_type": "code",
   "execution_count": 40,
   "id": "af0d2946",
   "metadata": {},
   "outputs": [
    {
     "data": {
      "text/plain": [
       "Molly      Physics\n",
       "William       Math\n",
       "dtype: object"
      ]
     },
     "execution_count": 40,
     "metadata": {},
     "output_type": "execute_result"
    }
   ],
   "source": [
    "# Excluding the 'Andre' keyvalue\n",
    "pd.Series({'Molly': 'Physics', 'William': 'Math', 'Andre': 'Chemistry'}, index=['Molly', 'William'])"
   ]
  },
  {
   "cell_type": "code",
   "execution_count": 41,
   "id": "03cefc74",
   "metadata": {},
   "outputs": [
    {
     "data": {
      "text/plain": [
       "Molly      Physics\n",
       "William       Math\n",
       "Sean           NaN\n",
       "dtype: object"
      ]
     },
     "execution_count": 41,
     "metadata": {},
     "output_type": "execute_result"
    }
   ],
   "source": [
    "# Argument index has a non exsiting keyvalue 'Sean'\n",
    "pd.Series({'Molly': 'Physics', 'William': 'Math', 'Andre': 'Chemistry'}, index=['Molly', 'William', 'Sean'])"
   ]
  },
  {
   "cell_type": "markdown",
   "id": "7586ffce",
   "metadata": {},
   "source": [
    "## Querying Series\n",
    "\n",
    "There are a lot of ways for querying series from pandas. One of them is accessing the value on a series with it's index key, just the normal use of lists indices."
   ]
  },
  {
   "cell_type": "code",
   "execution_count": 42,
   "id": "f7d8801d",
   "metadata": {},
   "outputs": [
    {
     "data": {
      "text/plain": [
       "Molly        Physics\n",
       "William         Math\n",
       "Andre      Chemistry\n",
       "dtype: object"
      ]
     },
     "execution_count": 42,
     "metadata": {},
     "output_type": "execute_result"
    }
   ],
   "source": [
    "s"
   ]
  },
  {
   "cell_type": "code",
   "execution_count": 43,
   "id": "d528f635",
   "metadata": {},
   "outputs": [
    {
     "name": "stdout",
     "output_type": "stream",
     "text": [
      "Physics\n",
      "Physics\n",
      "Chemistry\n",
      "Chemistry\n"
     ]
    }
   ],
   "source": [
    "print(s['Molly'])\n",
    "print(s[0])\n",
    "print(s['Andre'])\n",
    "print(s[-1])\n",
    "# print(s['Mollya']) -> KeyError"
   ]
  },
  {
   "cell_type": "markdown",
   "id": "46caabbd",
   "metadata": {},
   "source": [
    "## The Power Of Vectorization\n",
    "\n",
    "Pandas Series can be treated as a iterable, which means that we can do all the operations that numpy has on our series too. Why just don't make a loop and iterate for each value of the series? We've discussed this before, numpy operations works with paralelism, which means that the library make various computations at the same time, speeding up the time of the algorithm really well."
   ]
  },
  {
   "cell_type": "code",
   "execution_count": 44,
   "id": "629b62af",
   "metadata": {},
   "outputs": [
    {
     "name": "stdout",
     "output_type": "stream",
     "text": [
      "3.98 ms ± 299 µs per loop (mean ± std. dev. of 7 runs, 100 loops each)\n"
     ]
    }
   ],
   "source": [
    "%%timeit -n 100\n",
    "numbers = np.random.randint(0, 1000, 10000)\n",
    "ser = pd.Series(numbers)\n",
    "total = 0\n",
    "\n",
    "for number in ser:\n",
    "    total += number\n",
    "\n",
    "total/len(numbers)"
   ]
  },
  {
   "cell_type": "code",
   "execution_count": 45,
   "id": "5fe3ed32",
   "metadata": {},
   "outputs": [
    {
     "name": "stdout",
     "output_type": "stream",
     "text": [
      "534 µs ± 89.8 µs per loop (mean ± std. dev. of 7 runs, 100 loops each)\n"
     ]
    }
   ],
   "source": [
    "%%timeit -n 100\n",
    "numbers = np.random.randint(0, 1000, 10000)\n",
    "ser = pd.Series(numbers)\n",
    "\n",
    "total = np.sum(ser)\n",
    "total/len(numbers)"
   ]
  },
  {
   "cell_type": "markdown",
   "id": "e33b2412",
   "metadata": {},
   "source": [
    "## Merging Two Series Objects\n",
    "\n",
    "If we have two series which we want to merge into, we can use the ``append()`` function. This function returns a new series which is one concatenated with the other intead of modifying them."
   ]
  },
  {
   "cell_type": "code",
   "execution_count": 46,
   "id": "c067b4cb",
   "metadata": {},
   "outputs": [
    {
     "data": {
      "text/plain": [
       "Molly        Physics\n",
       "William         Math\n",
       "Andre      Chemistry\n",
       "Kelly        English\n",
       "Kelly        Physics\n",
       "Kelly           Math\n",
       "dtype: object"
      ]
     },
     "execution_count": 46,
     "metadata": {},
     "output_type": "execute_result"
    }
   ],
   "source": [
    "student_kelly = pd.Series(['English', 'Physics', 'Math'], index=['Kelly', 'Kelly', 'Kelly'])\n",
    "new_series = s.append(student_kelly)\n",
    "\n",
    "new_series"
   ]
  },
  {
   "cell_type": "markdown",
   "id": "12085039",
   "metadata": {},
   "source": [
    "# Pandas Data Frames Objects\n",
    "\n",
    "Data Frames are the heart of pandas library. We can think about it as a two-dimension array which each column is labeled."
   ]
  },
  {
   "cell_type": "code",
   "execution_count": 47,
   "id": "b811037b",
   "metadata": {},
   "outputs": [],
   "source": [
    "import pandas as pd"
   ]
  },
  {
   "cell_type": "code",
   "execution_count": 48,
   "id": "c98486ec",
   "metadata": {},
   "outputs": [],
   "source": [
    "record_1 = {'Name': 'William', 'Course': 'Physics', 'Grade': 85}\n",
    "record_2 = {'Name': 'João', 'Course': 'Math', 'Grade': 95}\n",
    "record_3 = {'Name': 'Marcos', 'Course': 'Chemistry', 'Grade': 75}\n",
    "\n",
    "# record_1 = ['João', 'Almdeida'] -> try it"
   ]
  },
  {
   "cell_type": "code",
   "execution_count": 49,
   "id": "5060b072",
   "metadata": {},
   "outputs": [
    {
     "data": {
      "text/html": [
       "<div>\n",
       "<style scoped>\n",
       "    .dataframe tbody tr th:only-of-type {\n",
       "        vertical-align: middle;\n",
       "    }\n",
       "\n",
       "    .dataframe tbody tr th {\n",
       "        vertical-align: top;\n",
       "    }\n",
       "\n",
       "    .dataframe thead th {\n",
       "        text-align: right;\n",
       "    }\n",
       "</style>\n",
       "<table border=\"1\" class=\"dataframe\">\n",
       "  <thead>\n",
       "    <tr style=\"text-align: right;\">\n",
       "      <th></th>\n",
       "      <th>Name</th>\n",
       "      <th>Course</th>\n",
       "      <th>Grade</th>\n",
       "    </tr>\n",
       "  </thead>\n",
       "  <tbody>\n",
       "    <tr>\n",
       "      <th>School 1</th>\n",
       "      <td>William</td>\n",
       "      <td>Physics</td>\n",
       "      <td>85</td>\n",
       "    </tr>\n",
       "    <tr>\n",
       "      <th>School 2</th>\n",
       "      <td>João</td>\n",
       "      <td>Math</td>\n",
       "      <td>95</td>\n",
       "    </tr>\n",
       "    <tr>\n",
       "      <th>School 3</th>\n",
       "      <td>Marcos</td>\n",
       "      <td>Chemistry</td>\n",
       "      <td>75</td>\n",
       "    </tr>\n",
       "  </tbody>\n",
       "</table>\n",
       "</div>"
      ],
      "text/plain": [
       "             Name     Course  Grade\n",
       "School 1  William    Physics     85\n",
       "School 2     João       Math     95\n",
       "School 3   Marcos  Chemistry     75"
      ]
     },
     "execution_count": 49,
     "metadata": {},
     "output_type": "execute_result"
    }
   ],
   "source": [
    "df = pd.DataFrame(data=[record_1, record_2, record_3], index=['School 1', 'School 2', 'School 3'])\n",
    "df"
   ]
  },
  {
   "cell_type": "code",
   "execution_count": 50,
   "id": "d43ed106",
   "metadata": {},
   "outputs": [
    {
     "data": {
      "text/plain": [
       "Name      João\n",
       "Course    Math\n",
       "Grade       95\n",
       "Name: School 2, dtype: object"
      ]
     },
     "execution_count": 50,
     "metadata": {},
     "output_type": "execute_result"
    }
   ],
   "source": [
    "df.loc['School 2']"
   ]
  },
  {
   "cell_type": "code",
   "execution_count": 51,
   "id": "1fc36716",
   "metadata": {},
   "outputs": [
    {
     "data": {
      "text/plain": [
       "pandas.core.series.Series"
      ]
     },
     "execution_count": 51,
     "metadata": {},
     "output_type": "execute_result"
    }
   ],
   "source": [
    "type(df.loc['School 2'])"
   ]
  },
  {
   "cell_type": "code",
   "execution_count": 52,
   "id": "78d9a74a",
   "metadata": {},
   "outputs": [
    {
     "data": {
      "text/plain": [
       "'William'"
      ]
     },
     "execution_count": 52,
     "metadata": {},
     "output_type": "execute_result"
    }
   ],
   "source": [
    "# We can merge the informations which we want to search by querying df[column][row]\n",
    "df['Name']['School 1']"
   ]
  },
  {
   "cell_type": "markdown",
   "id": "9b76be03",
   "metadata": {},
   "source": [
    "## Droping values\n",
    "\n",
    "Pandas allow us to drop rows on data frames with the ``drop(row_index)`` function. It drops a row of the df according to the row_index argument. It will not affect out original df, but instead of it will create a copy with the row droped."
   ]
  },
  {
   "cell_type": "code",
   "execution_count": 53,
   "id": "0d4653bd",
   "metadata": {},
   "outputs": [
    {
     "data": {
      "text/html": [
       "<div>\n",
       "<style scoped>\n",
       "    .dataframe tbody tr th:only-of-type {\n",
       "        vertical-align: middle;\n",
       "    }\n",
       "\n",
       "    .dataframe tbody tr th {\n",
       "        vertical-align: top;\n",
       "    }\n",
       "\n",
       "    .dataframe thead th {\n",
       "        text-align: right;\n",
       "    }\n",
       "</style>\n",
       "<table border=\"1\" class=\"dataframe\">\n",
       "  <thead>\n",
       "    <tr style=\"text-align: right;\">\n",
       "      <th></th>\n",
       "      <th>Name</th>\n",
       "      <th>Course</th>\n",
       "      <th>Grade</th>\n",
       "    </tr>\n",
       "  </thead>\n",
       "  <tbody>\n",
       "    <tr>\n",
       "      <th>School 2</th>\n",
       "      <td>João</td>\n",
       "      <td>Math</td>\n",
       "      <td>95</td>\n",
       "    </tr>\n",
       "    <tr>\n",
       "      <th>School 3</th>\n",
       "      <td>Marcos</td>\n",
       "      <td>Chemistry</td>\n",
       "      <td>75</td>\n",
       "    </tr>\n",
       "  </tbody>\n",
       "</table>\n",
       "</div>"
      ],
      "text/plain": [
       "            Name     Course  Grade\n",
       "School 2    João       Math     95\n",
       "School 3  Marcos  Chemistry     75"
      ]
     },
     "execution_count": 53,
     "metadata": {},
     "output_type": "execute_result"
    }
   ],
   "source": [
    "df.drop('School 1')"
   ]
  },
  {
   "cell_type": "code",
   "execution_count": 54,
   "id": "5abca875",
   "metadata": {},
   "outputs": [
    {
     "data": {
      "text/html": [
       "<div>\n",
       "<style scoped>\n",
       "    .dataframe tbody tr th:only-of-type {\n",
       "        vertical-align: middle;\n",
       "    }\n",
       "\n",
       "    .dataframe tbody tr th {\n",
       "        vertical-align: top;\n",
       "    }\n",
       "\n",
       "    .dataframe thead th {\n",
       "        text-align: right;\n",
       "    }\n",
       "</style>\n",
       "<table border=\"1\" class=\"dataframe\">\n",
       "  <thead>\n",
       "    <tr style=\"text-align: right;\">\n",
       "      <th></th>\n",
       "      <th>Name</th>\n",
       "      <th>Course</th>\n",
       "      <th>Grade</th>\n",
       "    </tr>\n",
       "  </thead>\n",
       "  <tbody>\n",
       "    <tr>\n",
       "      <th>School 1</th>\n",
       "      <td>William</td>\n",
       "      <td>Physics</td>\n",
       "      <td>85</td>\n",
       "    </tr>\n",
       "    <tr>\n",
       "      <th>School 2</th>\n",
       "      <td>João</td>\n",
       "      <td>Math</td>\n",
       "      <td>95</td>\n",
       "    </tr>\n",
       "    <tr>\n",
       "      <th>School 3</th>\n",
       "      <td>Marcos</td>\n",
       "      <td>Chemistry</td>\n",
       "      <td>75</td>\n",
       "    </tr>\n",
       "  </tbody>\n",
       "</table>\n",
       "</div>"
      ],
      "text/plain": [
       "             Name     Course  Grade\n",
       "School 1  William    Physics     85\n",
       "School 2     João       Math     95\n",
       "School 3   Marcos  Chemistry     75"
      ]
     },
     "execution_count": 54,
     "metadata": {},
     "output_type": "execute_result"
    }
   ],
   "source": [
    "df"
   ]
  },
  {
   "cell_type": "markdown",
   "id": "295b0d64",
   "metadata": {},
   "source": [
    "In ``drop()`` function we can even set True to ``inplace`` argument which do not create a copy of the df, but instead manipulate the original itself. Other important argument is the ``axis``, which can be 0 to drop a row or ' to drop a column."
   ]
  },
  {
   "cell_type": "code",
   "execution_count": 55,
   "id": "91ce0970",
   "metadata": {},
   "outputs": [],
   "source": [
    "df.drop?"
   ]
  },
  {
   "cell_type": "code",
   "execution_count": 56,
   "id": "f4a0508c",
   "metadata": {},
   "outputs": [
    {
     "data": {
      "text/html": [
       "<div>\n",
       "<style scoped>\n",
       "    .dataframe tbody tr th:only-of-type {\n",
       "        vertical-align: middle;\n",
       "    }\n",
       "\n",
       "    .dataframe tbody tr th {\n",
       "        vertical-align: top;\n",
       "    }\n",
       "\n",
       "    .dataframe thead th {\n",
       "        text-align: right;\n",
       "    }\n",
       "</style>\n",
       "<table border=\"1\" class=\"dataframe\">\n",
       "  <thead>\n",
       "    <tr style=\"text-align: right;\">\n",
       "      <th></th>\n",
       "      <th>Name</th>\n",
       "      <th>Course</th>\n",
       "      <th>Grade</th>\n",
       "    </tr>\n",
       "  </thead>\n",
       "  <tbody>\n",
       "    <tr>\n",
       "      <th>School 1</th>\n",
       "      <td>William</td>\n",
       "      <td>Physics</td>\n",
       "      <td>85</td>\n",
       "    </tr>\n",
       "    <tr>\n",
       "      <th>School 2</th>\n",
       "      <td>João</td>\n",
       "      <td>Math</td>\n",
       "      <td>95</td>\n",
       "    </tr>\n",
       "  </tbody>\n",
       "</table>\n",
       "</div>"
      ],
      "text/plain": [
       "             Name   Course  Grade\n",
       "School 1  William  Physics     85\n",
       "School 2     João     Math     95"
      ]
     },
     "execution_count": 56,
     "metadata": {},
     "output_type": "execute_result"
    }
   ],
   "source": [
    "df.drop('School 3', inplace=True)\n",
    "df"
   ]
  },
  {
   "cell_type": "code",
   "execution_count": 59,
   "id": "f82e5b22",
   "metadata": {},
   "outputs": [
    {
     "ename": "KeyError",
     "evalue": "\"['Course'] not found in axis\"",
     "output_type": "error",
     "traceback": [
      "\u001b[1;31m---------------------------------------------------------------------------\u001b[0m",
      "\u001b[1;31mKeyError\u001b[0m                                  Traceback (most recent call last)",
      "\u001b[1;32m<ipython-input-59-646511fd0929>\u001b[0m in \u001b[0;36m<module>\u001b[1;34m\u001b[0m\n\u001b[1;32m----> 1\u001b[1;33m \u001b[0mdf\u001b[0m\u001b[1;33m.\u001b[0m\u001b[0mdrop\u001b[0m\u001b[1;33m(\u001b[0m\u001b[1;34m'Course'\u001b[0m\u001b[1;33m,\u001b[0m \u001b[0minplace\u001b[0m\u001b[1;33m=\u001b[0m\u001b[1;32mTrue\u001b[0m\u001b[1;33m)\u001b[0m\u001b[1;33m\u001b[0m\u001b[1;33m\u001b[0m\u001b[0m\n\u001b[0m",
      "\u001b[1;32m~\\anaconda3\\lib\\site-packages\\pandas\\core\\frame.py\u001b[0m in \u001b[0;36mdrop\u001b[1;34m(self, labels, axis, index, columns, level, inplace, errors)\u001b[0m\n\u001b[0;32m   4306\u001b[0m                 \u001b[0mweight\u001b[0m  \u001b[1;36m1.0\u001b[0m     \u001b[1;36m0.8\u001b[0m\u001b[1;33m\u001b[0m\u001b[1;33m\u001b[0m\u001b[0m\n\u001b[0;32m   4307\u001b[0m         \"\"\"\n\u001b[1;32m-> 4308\u001b[1;33m         return super().drop(\n\u001b[0m\u001b[0;32m   4309\u001b[0m             \u001b[0mlabels\u001b[0m\u001b[1;33m=\u001b[0m\u001b[0mlabels\u001b[0m\u001b[1;33m,\u001b[0m\u001b[1;33m\u001b[0m\u001b[1;33m\u001b[0m\u001b[0m\n\u001b[0;32m   4310\u001b[0m             \u001b[0maxis\u001b[0m\u001b[1;33m=\u001b[0m\u001b[0maxis\u001b[0m\u001b[1;33m,\u001b[0m\u001b[1;33m\u001b[0m\u001b[1;33m\u001b[0m\u001b[0m\n",
      "\u001b[1;32m~\\anaconda3\\lib\\site-packages\\pandas\\core\\generic.py\u001b[0m in \u001b[0;36mdrop\u001b[1;34m(self, labels, axis, index, columns, level, inplace, errors)\u001b[0m\n\u001b[0;32m   4151\u001b[0m         \u001b[1;32mfor\u001b[0m \u001b[0maxis\u001b[0m\u001b[1;33m,\u001b[0m \u001b[0mlabels\u001b[0m \u001b[1;32min\u001b[0m \u001b[0maxes\u001b[0m\u001b[1;33m.\u001b[0m\u001b[0mitems\u001b[0m\u001b[1;33m(\u001b[0m\u001b[1;33m)\u001b[0m\u001b[1;33m:\u001b[0m\u001b[1;33m\u001b[0m\u001b[1;33m\u001b[0m\u001b[0m\n\u001b[0;32m   4152\u001b[0m             \u001b[1;32mif\u001b[0m \u001b[0mlabels\u001b[0m \u001b[1;32mis\u001b[0m \u001b[1;32mnot\u001b[0m \u001b[1;32mNone\u001b[0m\u001b[1;33m:\u001b[0m\u001b[1;33m\u001b[0m\u001b[1;33m\u001b[0m\u001b[0m\n\u001b[1;32m-> 4153\u001b[1;33m                 \u001b[0mobj\u001b[0m \u001b[1;33m=\u001b[0m \u001b[0mobj\u001b[0m\u001b[1;33m.\u001b[0m\u001b[0m_drop_axis\u001b[0m\u001b[1;33m(\u001b[0m\u001b[0mlabels\u001b[0m\u001b[1;33m,\u001b[0m \u001b[0maxis\u001b[0m\u001b[1;33m,\u001b[0m \u001b[0mlevel\u001b[0m\u001b[1;33m=\u001b[0m\u001b[0mlevel\u001b[0m\u001b[1;33m,\u001b[0m \u001b[0merrors\u001b[0m\u001b[1;33m=\u001b[0m\u001b[0merrors\u001b[0m\u001b[1;33m)\u001b[0m\u001b[1;33m\u001b[0m\u001b[1;33m\u001b[0m\u001b[0m\n\u001b[0m\u001b[0;32m   4154\u001b[0m \u001b[1;33m\u001b[0m\u001b[0m\n\u001b[0;32m   4155\u001b[0m         \u001b[1;32mif\u001b[0m \u001b[0minplace\u001b[0m\u001b[1;33m:\u001b[0m\u001b[1;33m\u001b[0m\u001b[1;33m\u001b[0m\u001b[0m\n",
      "\u001b[1;32m~\\anaconda3\\lib\\site-packages\\pandas\\core\\generic.py\u001b[0m in \u001b[0;36m_drop_axis\u001b[1;34m(self, labels, axis, level, errors)\u001b[0m\n\u001b[0;32m   4186\u001b[0m                 \u001b[0mnew_axis\u001b[0m \u001b[1;33m=\u001b[0m \u001b[0maxis\u001b[0m\u001b[1;33m.\u001b[0m\u001b[0mdrop\u001b[0m\u001b[1;33m(\u001b[0m\u001b[0mlabels\u001b[0m\u001b[1;33m,\u001b[0m \u001b[0mlevel\u001b[0m\u001b[1;33m=\u001b[0m\u001b[0mlevel\u001b[0m\u001b[1;33m,\u001b[0m \u001b[0merrors\u001b[0m\u001b[1;33m=\u001b[0m\u001b[0merrors\u001b[0m\u001b[1;33m)\u001b[0m\u001b[1;33m\u001b[0m\u001b[1;33m\u001b[0m\u001b[0m\n\u001b[0;32m   4187\u001b[0m             \u001b[1;32melse\u001b[0m\u001b[1;33m:\u001b[0m\u001b[1;33m\u001b[0m\u001b[1;33m\u001b[0m\u001b[0m\n\u001b[1;32m-> 4188\u001b[1;33m                 \u001b[0mnew_axis\u001b[0m \u001b[1;33m=\u001b[0m \u001b[0maxis\u001b[0m\u001b[1;33m.\u001b[0m\u001b[0mdrop\u001b[0m\u001b[1;33m(\u001b[0m\u001b[0mlabels\u001b[0m\u001b[1;33m,\u001b[0m \u001b[0merrors\u001b[0m\u001b[1;33m=\u001b[0m\u001b[0merrors\u001b[0m\u001b[1;33m)\u001b[0m\u001b[1;33m\u001b[0m\u001b[1;33m\u001b[0m\u001b[0m\n\u001b[0m\u001b[0;32m   4189\u001b[0m             \u001b[0mresult\u001b[0m \u001b[1;33m=\u001b[0m \u001b[0mself\u001b[0m\u001b[1;33m.\u001b[0m\u001b[0mreindex\u001b[0m\u001b[1;33m(\u001b[0m\u001b[1;33m**\u001b[0m\u001b[1;33m{\u001b[0m\u001b[0maxis_name\u001b[0m\u001b[1;33m:\u001b[0m \u001b[0mnew_axis\u001b[0m\u001b[1;33m}\u001b[0m\u001b[1;33m)\u001b[0m\u001b[1;33m\u001b[0m\u001b[1;33m\u001b[0m\u001b[0m\n\u001b[0;32m   4190\u001b[0m \u001b[1;33m\u001b[0m\u001b[0m\n",
      "\u001b[1;32m~\\anaconda3\\lib\\site-packages\\pandas\\core\\indexes\\base.py\u001b[0m in \u001b[0;36mdrop\u001b[1;34m(self, labels, errors)\u001b[0m\n\u001b[0;32m   5589\u001b[0m         \u001b[1;32mif\u001b[0m \u001b[0mmask\u001b[0m\u001b[1;33m.\u001b[0m\u001b[0many\u001b[0m\u001b[1;33m(\u001b[0m\u001b[1;33m)\u001b[0m\u001b[1;33m:\u001b[0m\u001b[1;33m\u001b[0m\u001b[1;33m\u001b[0m\u001b[0m\n\u001b[0;32m   5590\u001b[0m             \u001b[1;32mif\u001b[0m \u001b[0merrors\u001b[0m \u001b[1;33m!=\u001b[0m \u001b[1;34m\"ignore\"\u001b[0m\u001b[1;33m:\u001b[0m\u001b[1;33m\u001b[0m\u001b[1;33m\u001b[0m\u001b[0m\n\u001b[1;32m-> 5591\u001b[1;33m                 \u001b[1;32mraise\u001b[0m \u001b[0mKeyError\u001b[0m\u001b[1;33m(\u001b[0m\u001b[1;34mf\"{labels[mask]} not found in axis\"\u001b[0m\u001b[1;33m)\u001b[0m\u001b[1;33m\u001b[0m\u001b[1;33m\u001b[0m\u001b[0m\n\u001b[0m\u001b[0;32m   5592\u001b[0m             \u001b[0mindexer\u001b[0m \u001b[1;33m=\u001b[0m \u001b[0mindexer\u001b[0m\u001b[1;33m[\u001b[0m\u001b[1;33m~\u001b[0m\u001b[0mmask\u001b[0m\u001b[1;33m]\u001b[0m\u001b[1;33m\u001b[0m\u001b[1;33m\u001b[0m\u001b[0m\n\u001b[0;32m   5593\u001b[0m         \u001b[1;32mreturn\u001b[0m \u001b[0mself\u001b[0m\u001b[1;33m.\u001b[0m\u001b[0mdelete\u001b[0m\u001b[1;33m(\u001b[0m\u001b[0mindexer\u001b[0m\u001b[1;33m)\u001b[0m\u001b[1;33m\u001b[0m\u001b[1;33m\u001b[0m\u001b[0m\n",
      "\u001b[1;31mKeyError\u001b[0m: \"['Course'] not found in axis\""
     ]
    }
   ],
   "source": [
    "df.drop('Course', inplace=True)"
   ]
  },
  {
   "cell_type": "code",
   "execution_count": null,
   "id": "a7054703",
   "metadata": {},
   "outputs": [],
   "source": []
  }
 ],
 "metadata": {
  "kernelspec": {
   "display_name": "Python 3",
   "language": "python",
   "name": "python3"
  },
  "language_info": {
   "codemirror_mode": {
    "name": "ipython",
    "version": 3
   },
   "file_extension": ".py",
   "mimetype": "text/x-python",
   "name": "python",
   "nbconvert_exporter": "python",
   "pygments_lexer": "ipython3",
   "version": "3.8.8"
  }
 },
 "nbformat": 4,
 "nbformat_minor": 5
}
