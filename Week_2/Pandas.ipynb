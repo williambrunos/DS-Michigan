{
 "cells": [
  {
   "cell_type": "markdown",
   "id": "eb32d969",
   "metadata": {},
   "source": [
    "# Pandas: Getting Started\n",
    "\n",
    "## Pandas Series\n",
    "\n",
    "Pandas series objects are used to store and manipulate single dimensional arrays of numbers. These are the basic data structures in pandas, which are a mix of lists and dictionaries, so you have indices of each data and string keys to define columns.\n",
    "\n",
    "Series on Pandas come from NumPy arrays, but Series has the values and indices expressed, not just intern."
   ]
  },
  {
   "cell_type": "code",
   "execution_count": 18,
   "id": "254d9a29",
   "metadata": {},
   "outputs": [],
   "source": [
    "import pandas as pd\n",
    "import numpy as np"
   ]
  },
  {
   "cell_type": "code",
   "execution_count": 9,
   "id": "554c5a93",
   "metadata": {},
   "outputs": [
    {
     "data": {
      "text/plain": [
       "0    Wiliam\n",
       "1     Molly\n",
       "2      Alex\n",
       "dtype: object"
      ]
     },
     "execution_count": 9,
     "metadata": {},
     "output_type": "execute_result"
    }
   ],
   "source": [
    "# Pandas stores our list in a Series by creating a new numpy array and sotring our values on it\n",
    "# This numpy aproach give to us various advantages, like more efficientcy when manipulating arrays\n",
    "students = ['Wiliam', 'Molly', 'Alex']\n",
    "\n",
    "pd.Series(students)"
   ]
  },
  {
   "cell_type": "code",
   "execution_count": 10,
   "id": "0a084a4d",
   "metadata": {},
   "outputs": [
    {
     "data": {
      "text/plain": [
       "0    1\n",
       "1    2\n",
       "2    3\n",
       "dtype: int64"
      ]
     },
     "execution_count": 10,
     "metadata": {},
     "output_type": "execute_result"
    }
   ],
   "source": [
    "numbers = [1, 2, 3]\n",
    "\n",
    "pd.Series(numbers)"
   ]
  },
  {
   "cell_type": "markdown",
   "id": "5b795b15",
   "metadata": {},
   "source": [
    "## None Values\n",
    "\n",
    "When creating a Series, Python verfies which element we are treating on the series. If it finds a None value, it will store it anyway on the numpy array and the type of the array will be of the underlyig array(without the None)."
   ]
  },
  {
   "cell_type": "code",
   "execution_count": 15,
   "id": "b45301f0",
   "metadata": {},
   "outputs": [
    {
     "data": {
      "text/plain": [
       "0    William\n",
       "1       None\n",
       "2      Bruno\n",
       "dtype: object"
      ]
     },
     "execution_count": 15,
     "metadata": {},
     "output_type": "execute_result"
    }
   ],
   "source": [
    "testing = ['William', None, 'Bruno']\n",
    "\n",
    "pd.Series(testing)\n",
    "# try it: pd.Series(testing).dropna() -> 'drop all None values'"
   ]
  },
  {
   "cell_type": "code",
   "execution_count": 21,
   "id": "2c2d1d3a",
   "metadata": {},
   "outputs": [
    {
     "data": {
      "text/plain": [
       "0    1.0\n",
       "1    2.0\n",
       "2    NaN\n",
       "dtype: float64"
      ]
     },
     "execution_count": 21,
     "metadata": {},
     "output_type": "execute_result"
    }
   ],
   "source": [
    "# When recieving an array of integers or float numbers to creat a Series, Pandas verifies if the array has None objects.\n",
    "# If it has, pandas converts it to NaN (Not A Number) object and the rest of the numbers, dispite its integers or not, to\n",
    "# floating points\n",
    "numbers = [1, 2, None]\n",
    "\n",
    "pd.Series(numbers)"
   ]
  },
  {
   "cell_type": "markdown",
   "id": "318dc73b",
   "metadata": {},
   "source": [
    "## Why None Values?\n",
    "\n",
    "For data scientists, None or NaN values are used to refference missing data. It's important to know how to clean these missing values from the data set if them do not improve any knowledge.\n",
    "\n",
    "## How to know if there is NaN values?\n",
    "\n",
    "Simple programming comparisons does not act like we wanted to NaN values. Because of that, it's important to use the ``isnan()`` functin which is present on the numpy library. It checks if a object is a NaN value."
   ]
  },
  {
   "cell_type": "code",
   "execution_count": 30,
   "id": "9564457b",
   "metadata": {},
   "outputs": [
    {
     "data": {
      "text/plain": [
       "True"
      ]
     },
     "execution_count": 30,
     "metadata": {},
     "output_type": "execute_result"
    }
   ],
   "source": [
    "np.isnan(np.nan)"
   ]
  },
  {
   "cell_type": "markdown",
   "id": "b6df1e11",
   "metadata": {},
   "source": [
    "## Creating Series from Dictionaries\n",
    "\n",
    "We've saw that when creating a list and passing it as argument to create a pandas series it will store for each element a key value which is a integer growing from 0 to len(list) - 1.\n",
    "\n",
    "But we can create a series from a dictionary as well. On that case, the key values will not be integers anymore, but using the key values from the dict instead."
   ]
  },
  {
   "cell_type": "code",
   "execution_count": 31,
   "id": "fcaa0ff3",
   "metadata": {},
   "outputs": [
    {
     "data": {
      "text/plain": [
       "Molly        Physics\n",
       "William         Math\n",
       "Andre      Chemistry\n",
       "dtype: object"
      ]
     },
     "execution_count": 31,
     "metadata": {},
     "output_type": "execute_result"
    }
   ],
   "source": [
    "students_grades = {'Molly': 'Physics',\n",
    "                   'William': 'Math',\n",
    "                   'Andre': 'Chemistry',\n",
    "                  }\n",
    "s = pd.Series(students_grades)\n",
    "s"
   ]
  },
  {
   "cell_type": "code",
   "execution_count": 32,
   "id": "5f7893a0",
   "metadata": {},
   "outputs": [
    {
     "data": {
      "text/plain": [
       "0      (William, Sales)\n",
       "1    (Marcos, Vinicius)\n",
       "2         (João, Lucas)\n",
       "dtype: object"
      ]
     },
     "execution_count": 32,
     "metadata": {},
     "output_type": "execute_result"
    }
   ],
   "source": [
    "# hThe dtype: object is not just for strings, is for any object type on `Python\n",
    "students_last_names = [('William', 'Sales'), ('Marcos', 'Vinicius'), ('João', 'Lucas')]\n",
    "\n",
    "pd.Series(students_last_names)"
   ]
  },
  {
   "cell_type": "markdown",
   "id": "c6457575",
   "metadata": {},
   "source": [
    "## Creating an arbitrary Series\n",
    "\n",
    "We can also pass as argument on the Series function which indexes we want to pick up from the list or dict. But, what happens if we say for the index argument a key which is not on our dict? Pandas will create a new field on the Series with that key and attribute to it a NaN value. If we exclude some key from the dict, pandas will simply not add it up on the Series."
   ]
  },
  {
   "cell_type": "code",
   "execution_count": 33,
   "id": "af0d2946",
   "metadata": {},
   "outputs": [
    {
     "data": {
      "text/plain": [
       "Molly      Physics\n",
       "William       Math\n",
       "dtype: object"
      ]
     },
     "execution_count": 33,
     "metadata": {},
     "output_type": "execute_result"
    }
   ],
   "source": [
    "# Excluding the 'Andre' keyvalue\n",
    "pd.Series({'Molly': 'Physics', 'William': 'Math', 'Andre': 'Chemistry'}, index=['Molly', 'William'])"
   ]
  },
  {
   "cell_type": "code",
   "execution_count": 34,
   "id": "03cefc74",
   "metadata": {},
   "outputs": [
    {
     "data": {
      "text/plain": [
       "Molly      Physics\n",
       "William       Math\n",
       "Sean           NaN\n",
       "dtype: object"
      ]
     },
     "execution_count": 34,
     "metadata": {},
     "output_type": "execute_result"
    }
   ],
   "source": [
    "# Argument index has a non exsiting keyvalue 'Sean'\n",
    "pd.Series({'Molly': 'Physics', 'William': 'Math', 'Andre': 'Chemistry'}, index=['Molly', 'William', 'Sean'])"
   ]
  },
  {
   "cell_type": "markdown",
   "id": "7586ffce",
   "metadata": {},
   "source": [
    "## Querying Series\n",
    "\n",
    "There are a lot of ways for querying series from pandas. One of them is accessing the value on a series with it's index key, just the normal use of lists indices."
   ]
  },
  {
   "cell_type": "code",
   "execution_count": 37,
   "id": "f7d8801d",
   "metadata": {},
   "outputs": [
    {
     "data": {
      "text/plain": [
       "Molly        Physics\n",
       "William         Math\n",
       "Andre      Chemistry\n",
       "dtype: object"
      ]
     },
     "execution_count": 37,
     "metadata": {},
     "output_type": "execute_result"
    }
   ],
   "source": [
    "s"
   ]
  },
  {
   "cell_type": "code",
   "execution_count": 39,
   "id": "d528f635",
   "metadata": {},
   "outputs": [
    {
     "name": "stdout",
     "output_type": "stream",
     "text": [
      "Physics\n",
      "Physics\n",
      "Chemistry\n",
      "Chemistry\n"
     ]
    }
   ],
   "source": [
    "print(s['Molly'])\n",
    "print(s[0])\n",
    "print(s['Andre'])\n",
    "print(s[-1])\n",
    "# print(s['Mollya']) -> KeyError"
   ]
  },
  {
   "cell_type": "markdown",
   "id": "46caabbd",
   "metadata": {},
   "source": [
    "## The Power Of Vectorization\n",
    "\n",
    "Pandas Series can be treated as a iterable, which means that we can do all the operations that numpy has on our series too. Why just don't make a loop and iterate for each value of the series? We've discussed this before, numpy operations works with paralelism, which means that the library make various computations at the same time, speeding up the time of the algorithm really well."
   ]
  },
  {
   "cell_type": "code",
   "execution_count": 43,
   "id": "629b62af",
   "metadata": {},
   "outputs": [
    {
     "name": "stdout",
     "output_type": "stream",
     "text": [
      "3.11 ms ± 108 µs per loop (mean ± std. dev. of 7 runs, 100 loops each)\n"
     ]
    }
   ],
   "source": [
    "%%timeit -n 100\n",
    "numbers = np.random.randint(0, 1000, 10000)\n",
    "ser = pd.Series(numbers)\n",
    "total = 0\n",
    "\n",
    "for number in ser:\n",
    "    total += number\n",
    "\n",
    "total/len(numbers)"
   ]
  },
  {
   "cell_type": "code",
   "execution_count": 47,
   "id": "5fe3ed32",
   "metadata": {},
   "outputs": [
    {
     "name": "stdout",
     "output_type": "stream",
     "text": [
      "432 µs ± 94 µs per loop (mean ± std. dev. of 7 runs, 100 loops each)\n"
     ]
    }
   ],
   "source": [
    "%%timeit -n 100\n",
    "numbers = np.random.randint(0, 1000, 10000)\n",
    "ser = pd.Series(numbers)\n",
    "\n",
    "total = np.sum(ser)\n",
    "total/len(numbers)"
   ]
  },
  {
   "cell_type": "markdown",
   "id": "e33b2412",
   "metadata": {},
   "source": [
    "## Merging Two Series Objects\n",
    "\n",
    "If we have two series which we want to merge into, we can use the ``append()`` function. This function returns a new series which is one concatenated with the other intead of modifying them."
   ]
  },
  {
   "cell_type": "code",
   "execution_count": 49,
   "id": "c067b4cb",
   "metadata": {},
   "outputs": [
    {
     "data": {
      "text/plain": [
       "Molly        Physics\n",
       "William         Math\n",
       "Andre      Chemistry\n",
       "Kelly        English\n",
       "Kelly        Physics\n",
       "Kelly           Math\n",
       "dtype: object"
      ]
     },
     "execution_count": 49,
     "metadata": {},
     "output_type": "execute_result"
    }
   ],
   "source": [
    "student_kelly = pd.Series(['English', 'Physics', 'Math'], index=['Kelly', 'Kelly', 'Kelly'])\n",
    "new_series = s.append(student_kelly)\n",
    "\n",
    "new_series"
   ]
  }
 ],
 "metadata": {
  "kernelspec": {
   "display_name": "Python 3",
   "language": "python",
   "name": "python3"
  },
  "language_info": {
   "codemirror_mode": {
    "name": "ipython",
    "version": 3
   },
   "file_extension": ".py",
   "mimetype": "text/x-python",
   "name": "python",
   "nbconvert_exporter": "python",
   "pygments_lexer": "ipython3",
   "version": "3.8.8"
  }
 },
 "nbformat": 4,
 "nbformat_minor": 5
}
